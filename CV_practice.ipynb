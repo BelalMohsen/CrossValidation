{
 "cells": [
  {
   "cell_type": "code",
   "execution_count": 8,
   "metadata": {
    "collapsed": true
   },
   "outputs": [],
   "source": [
    "from sklearn.datasets import load_iris\n",
    "from sklearn.ensemble import RandomForestClassifier\n",
    "from sklearn.cross_validation import KFold\n",
    "from sklearn import metrics\n",
    "from sklearn.linear_model import LogisticRegression\n",
    "from sklearn import svm\n",
    "from sklearn.cross_validation import cross_val_score\n",
    "import numpy as np\n",
    "import pandas as pd\n",
    "from sklearn.cross_validation import train_test_split"
   ]
  },
  {
   "cell_type": "code",
   "execution_count": 4,
   "metadata": {
    "collapsed": false
   },
   "outputs": [
    {
     "name": "stdout",
     "output_type": "stream",
     "text": [
      "   num_times_pregnant  glucose_level  blood_pres  skin_thickness  insulin  \\\n",
      "0                   6            148          72              35        0   \n",
      "1                   1             85          66              29        0   \n",
      "2                   8            183          64               0        0   \n",
      "3                   1             89          66              23       94   \n",
      "4                   0            137          40              35      168   \n",
      "\n",
      "    bmi  dia_pedigree  age  \n",
      "0  33.6         0.627   50  \n",
      "1  26.6         0.351   31  \n",
      "2  23.3         0.672   32  \n",
      "3  28.1         0.167   21  \n",
      "4  43.1         2.288   33  \n",
      "0    1\n",
      "1    0\n",
      "2    1\n",
      "3    0\n",
      "4    1\n",
      "Name: has_diabetes, dtype: int64\n"
     ]
    }
   ],
   "source": [
    "# https://archive.ics.uci.edu/ml/machine-learning-databases/pima-indians-diabetes/\n",
    "names = ['num_times_pregnant', 'glucose_level', 'blood_pres', 'skin_thickness', 'insulin', 'bmi', 'dia_pedigree', 'age', 'has_diabetes']\n",
    "data = pd.read_csv(\"pima-indians-diabetes.data\", names = names)\n",
    "input_data = data[['num_times_pregnant', 'glucose_level', 'blood_pres', 'skin_thickness', 'insulin', 'bmi', 'dia_pedigree', 'age']]\n",
    "expected_output = data['has_diabetes']\n",
    "print(input_data.head())\n",
    "print(expected_output.head())"
   ]
  },
  {
   "cell_type": "code",
   "execution_count": null,
   "metadata": {
    "collapsed": true
   },
   "outputs": [],
   "source": [
    "# Create a Random forest, Logistic regression and SVM instance:\n"
   ]
  },
  {
   "cell_type": "code",
   "execution_count": 6,
   "metadata": {
    "collapsed": false
   },
   "outputs": [
    {
     "name": "stdout",
     "output_type": "stream",
     "text": [
      "Random Forest: 0.7486842105263157\n",
      "SVM:  0.651059466849\n",
      "Logistic:  0.766968557758\n"
     ]
    }
   ],
   "source": [
    "# Print the mean for the 3 algorithms, using the cross_val_score function\n",
    "\n"
   ]
  },
  {
   "cell_type": "markdown",
   "metadata": {},
   "source": [
    "\n",
    "*Now  actually run the 3 machine learning algorithms*\n",
    "\n"
   ]
  },
  {
   "cell_type": "code",
   "execution_count": 10,
   "metadata": {
    "collapsed": false
   },
   "outputs": [],
   "source": [
    "# Create the test train split\n",
    "\n"
   ]
  },
  {
   "cell_type": "code",
   "execution_count": 16,
   "metadata": {
    "collapsed": false
   },
   "outputs": [
    {
     "data": {
      "text/plain": [
       "0.74015748031496065"
      ]
     },
     "execution_count": 16,
     "metadata": {},
     "output_type": "execute_result"
    }
   ],
   "source": [
    "# Run the data with Random forest\n",
    "\n"
   ]
  },
  {
   "cell_type": "code",
   "execution_count": 17,
   "metadata": {
    "collapsed": false
   },
   "outputs": [
    {
     "data": {
      "text/plain": [
       "0.76771653543307083"
      ]
     },
     "execution_count": 17,
     "metadata": {},
     "output_type": "execute_result"
    }
   ],
   "source": [
    "# Run the data with Logistic Regression\n",
    "\n"
   ]
  },
  {
   "cell_type": "code",
   "execution_count": 18,
   "metadata": {
    "collapsed": false
   },
   "outputs": [
    {
     "data": {
      "text/plain": [
       "0.67322834645669294"
      ]
     },
     "execution_count": 18,
     "metadata": {},
     "output_type": "execute_result"
    }
   ],
   "source": [
    "# Run the data with SVM\n",
    "\n"
   ]
  }
 ],
 "metadata": {
  "kernelspec": {
   "display_name": "Python 3",
   "language": "python",
   "name": "python3"
  },
  "language_info": {
   "codemirror_mode": {
    "name": "ipython",
    "version": 3
   },
   "file_extension": ".py",
   "mimetype": "text/x-python",
   "name": "python",
   "nbconvert_exporter": "python",
   "pygments_lexer": "ipython3",
   "version": "3.4.3"
  }
 },
 "nbformat": 4,
 "nbformat_minor": 0
}
