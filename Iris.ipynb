{
 "cells": [
  {
   "cell_type": "code",
   "execution_count": 29,
   "metadata": {
    "collapsed": true
   },
   "outputs": [],
   "source": [
    "from sklearn.datasets import load_iris\n",
    "from sklearn.ensemble import RandomForestClassifier\n",
    "from sklearn.cross_validation import KFold\n",
    "from sklearn import metrics\n",
    "from sklearn.linear_model import LogisticRegression\n",
    "from sklearn import svm\n",
    "from sklearn.cross_validation import cross_val_score\n",
    "import numpy as np\n",
    "import pandas as pd\n",
    "from sklearn.cross_validation import train_test_split"
   ]
  },
  {
   "cell_type": "code",
   "execution_count": 3,
   "metadata": {
    "collapsed": false
   },
   "outputs": [],
   "source": [
    "iris_data = load_iris()"
   ]
  },
  {
   "cell_type": "code",
   "execution_count": 20,
   "metadata": {
    "collapsed": false
   },
   "outputs": [
    {
     "name": "stdout",
     "output_type": "stream",
     "text": [
      "[0 0 0 0 0 0 0 0 0 0 0 0 0 0 0 0 0 0 0 0 0 0 0 0 0 0 0 0 0 0 0 0 0 0 0 0 0\n",
      " 0 0 0 0 0 0 0 0 0 0 0 0 0 1 1 1 1 1 1 1 1 1 1 1 1 1 1 1 1 1 1 1 1 1 1 1 1\n",
      " 1 1 1 1 1 1 1 1 1 1 1 1 1 1 1 1 1 1 1 1 1 1 1 1 1 1 2 2 2 2 2 2 2 2 2 2 2\n",
      " 2 2 2 2 2 2 2 2 2 2 2 2 2 2 2 2 2 2 2 2 2 2 2 2 2 2 2 2 2 2 2 2 2 2 2 2 2\n",
      " 2 2]\n"
     ]
    }
   ],
   "source": [
    "data_input = iris_data.data\n",
    "data_output = iris_data.target\n",
    "print(data_output)"
   ]
  },
  {
   "cell_type": "code",
   "execution_count": 16,
   "metadata": {
    "collapsed": false
   },
   "outputs": [],
   "source": [
    "kf = KFold(10, n_folds = 5, shuffle=True)\n"
   ]
  },
  {
   "cell_type": "code",
   "execution_count": 17,
   "metadata": {
    "collapsed": false
   },
   "outputs": [
    {
     "name": "stdout",
     "output_type": "stream",
     "text": [
      "Train Set          Test Set        \n",
      "[0 1 2 3 4 5 7 8] [6 9]\n",
      "[0 2 4 5 6 7 8 9] [1 3]\n",
      "[0 1 3 4 5 6 8 9] [2 7]\n",
      "[1 2 3 4 5 6 7 9] [0 8]\n",
      "[0 1 2 3 6 7 8 9] [4 5]\n"
     ]
    }
   ],
   "source": [
    "print(\"Train Set          Test Set        \")\n",
    "for train_set,test_set in kf:\n",
    "    print(train_set, test_set)"
   ]
  },
  {
   "cell_type": "code",
   "execution_count": 18,
   "metadata": {
    "collapsed": true
   },
   "outputs": [],
   "source": [
    "rf_class = RandomForestClassifier(n_estimators=10)\n",
    "log_class = LogisticRegression()\n",
    "svm_class = svm.SVC()"
   ]
  },
  {
   "cell_type": "code",
   "execution_count": 23,
   "metadata": {
    "collapsed": false
   },
   "outputs": [
    {
     "name": "stdout",
     "output_type": "stream",
     "text": [
      "Random Forests: \n",
      "[ 1.          0.93333333  1.          0.93333333  0.93333333  0.93333333\n",
      "  0.86666667  1.          1.          1.        ]\n",
      "Accuracy of Random Forests is:  95.3333333333\n",
      "\n",
      "\n",
      "SVM:\n",
      "[ 1.          0.93333333  1.          1.          1.          0.93333333\n",
      "  0.93333333  1.          1.          1.        ]\n",
      "Accuracy of SVM is:  98.0\n",
      "\n",
      "\n",
      "Log:\n",
      "[ 1.          1.          1.          0.93333333  0.93333333  0.93333333\n",
      "  0.8         0.93333333  1.          1.        ]\n",
      "Accuracy of SVM is:  95.3333333333\n"
     ]
    }
   ],
   "source": [
    "print(\"Random Forests: \")\n",
    "print(cross_val_score(rf_class, data_input, data_output, scoring='accuracy', cv = 10))\n",
    "accuracy = cross_val_score(rf_class, data_input, data_output, scoring='accuracy', cv = 10).mean() * 100\n",
    "print(\"Accuracy of Random Forests is: \" , accuracy)\n",
    "\n",
    "print(\"\\n\\nSVM:\")\n",
    "print(cross_val_score(svm_class, data_input, data_output, scoring='accuracy', cv = 10))\n",
    "accuracy = cross_val_score(svm_class, data_input, data_output, scoring='accuracy', cv = 10).mean() * 100\n",
    "print(\"Accuracy of SVM is: \" , accuracy)\n",
    "\n",
    "print(\"\\n\\nLog:\")\n",
    "print(cross_val_score(log_class, data_input, data_output, scoring='accuracy', cv = 10))\n",
    "accuracy = cross_val_score(log_class, data_input, data_output, scoring='accuracy', cv = 10).mean() * 100\n",
    "print(\"Accuracy of SVM is: \" , accuracy)"
   ]
  },
  {
   "cell_type": "code",
   "execution_count": 30,
   "metadata": {
    "collapsed": true
   },
   "outputs": [],
   "source": [
    "X_train, X_test, y_train, y_test = train_test_split(data_input, data_output, test_size=0.33)\n"
   ]
  },
  {
   "cell_type": "code",
   "execution_count": 31,
   "metadata": {
    "collapsed": false
   },
   "outputs": [
    {
     "data": {
      "text/plain": [
       "0.93999999999999995"
      ]
     },
     "execution_count": 31,
     "metadata": {},
     "output_type": "execute_result"
    }
   ],
   "source": [
    "rf_class.fit(X_train, y_train)\n",
    "rf_class.score(X_test, y_test)"
   ]
  },
  {
   "cell_type": "code",
   "execution_count": 34,
   "metadata": {
    "collapsed": false
   },
   "outputs": [
    {
     "data": {
      "text/plain": [
       "0.93999999999999995"
      ]
     },
     "execution_count": 34,
     "metadata": {},
     "output_type": "execute_result"
    }
   ],
   "source": [
    "log_class.fit(X_train, y_train)\n",
    "log_class.score(X_test, y_test)"
   ]
  },
  {
   "cell_type": "code",
   "execution_count": 33,
   "metadata": {
    "collapsed": false
   },
   "outputs": [
    {
     "data": {
      "text/plain": [
       "0.97999999999999998"
      ]
     },
     "execution_count": 33,
     "metadata": {},
     "output_type": "execute_result"
    }
   ],
   "source": [
    "svm_class.fit(X_train, y_train)\n",
    "svm_class.score(X_test, y_test)"
   ]
  },
  {
   "cell_type": "code",
   "execution_count": 37,
   "metadata": {
    "collapsed": false
   },
   "outputs": [
    {
     "name": "stdout",
     "output_type": "stream",
     "text": [
      "With kf2 ----\n",
      "Random Forest: 0.9533333333333334\n",
      "SVM:  0.98\n",
      "Logistic:  0.946666666667\n",
      "\n",
      " With cv\n",
      "Random Forest: 0.9577777777777777\n",
      "SVM:  0.975555555556\n",
      "Logistic:  0.951111111111\n"
     ]
    }
   ],
   "source": [
    "from sklearn import cross_validation\n",
    "kf2 = KFold(len(iris_data.data), n_folds=10, shuffle=True, random_state=10)\n",
    "cv = cross_validation.ShuffleSplit(len(iris_data.data), n_iter=10,  test_size=0.3, random_state=0)\n",
    "\n",
    "# Shows internal shuffling not that good, for this example\n",
    "print(\"With kf2 ----\")\n",
    "print(\"Random Forest: {}\".format(cross_val_score(rf_class, data_input, data_output, cv=kf2, scoring='accuracy').mean()))\n",
    "print(\"SVM: \", cross_val_score(svm_class, data_input, data_output, cv=kf2, scoring='accuracy').mean())\n",
    "print(\"Logistic: \", cross_val_score(log_class, data_input, data_output, cv=kf2, scoring='accuracy').mean())\n",
    "print(\"\\n With cv\")\n",
    "print(\"Random Forest: {}\".format(cross_val_score(rf_class, data_input,data_output, cv=cv, scoring='accuracy').mean()))\n",
    "print(\"SVM: \", cross_val_score(svm_class, data_input, data_output, cv=cv, scoring='accuracy').mean())\n",
    "print(\"Logistic: \", cross_val_score(log_class, data_input, data_output, cv=cv, scoring='accuracy').mean())"
   ]
  },
  {
   "cell_type": "code",
   "execution_count": null,
   "metadata": {
    "collapsed": true
   },
   "outputs": [],
   "source": []
  }
 ],
 "metadata": {
  "kernelspec": {
   "display_name": "Python 3",
   "language": "python",
   "name": "python3"
  },
  "language_info": {
   "codemirror_mode": {
    "name": "ipython",
    "version": 3
   },
   "file_extension": ".py",
   "mimetype": "text/x-python",
   "name": "python",
   "nbconvert_exporter": "python",
   "pygments_lexer": "ipython3",
   "version": "3.4.3"
  }
 },
 "nbformat": 4,
 "nbformat_minor": 0
}
